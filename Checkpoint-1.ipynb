{
 "cells": [
  {
   "cell_type": "code",
   "execution_count": 1,
   "metadata": {},
   "outputs": [],
   "source": [
    "import matplotlib.pyplot as plt\n",
    "import numpy as np\n",
    "from scipy.io import loadmat\n",
    "from scipy import signal\n",
    "import os"
   ]
  },
  {
   "cell_type": "code",
   "execution_count": 2,
   "metadata": {},
   "outputs": [],
   "source": [
    "path = '../03 CT Scan Images-002/'"
   ]
  },
  {
   "cell_type": "code",
   "execution_count": 3,
   "metadata": {},
   "outputs": [
    {
     "name": "stdout",
     "output_type": "stream",
     "text": [
      "Image: Beta_1_0.2.mat with porosity: 0.3376 \n",
      "Image: Beta_1_0.5.mat with porosity: 0.3353 \n",
      "Image: Beta_1_0.mat with porosity: 0.3672 \n",
      "Image: Beta_2_0.2.mat with porosity: 0.3476 \n",
      "Image: Beta_2_0.5.mat with porosity: 0.3472 \n",
      "Image: Beta_2_0.mat with porosity: 0.3841 \n",
      "Image: Mono_1_0.2.mat with porosity: 0.3387 \n",
      "Image: Mono_1_0.5.mat with porosity: 0.3359 \n",
      "Image: Mono_1_0.mat with porosity: 0.3730 \n",
      "Image: Mono_2_0.2.mat with porosity: 0.3483 \n",
      "Image: Mono_2_0.5.mat with porosity: 0.3420 \n",
      "Image: Mono_2_0.mat with porosity: 0.3849 \n",
      "Image: Mono_3_0.2.mat with porosity: 0.3495 \n",
      "Image: Mono_3_0.5.mat with porosity: 0.3557 \n",
      "Image: Mono_3_0.mat with porosity: 0.3887 \n",
      "Image: Normal_1_0.2.mat with porosity: 0.3450 \n",
      "Image: Normal_1_0.5.mat with porosity: 0.3468 \n",
      "Image: Normal_1_0.mat with porosity: 0.3799 \n",
      "Image: Normal_2_0.2.mat with porosity: 0.3369 \n",
      "Image: Normal_2_0.5.mat with porosity: 0.3408 \n",
      "Image: Normal_2_0.mat with porosity: 0.3709 \n",
      "Image: Normal_3_0.2.mat with porosity: 0.3386 \n",
      "Image: Normal_3_0.5.mat with porosity: 0.3421 \n",
      "Image: Normal_3_0.mat with porosity: 0.3726 \n",
      "Image: Uniform_1_0.2.mat with porosity: 0.3352 \n",
      "Image: Uniform_1_0.5.mat with porosity: 0.3332 \n",
      "Image: Uniform_1_0.mat with porosity: 0.3671 \n",
      "Image: Uniform_2_0.2.mat with porosity: 0.3439 \n",
      "Image: Uniform_2_0.5.mat with porosity: 0.3365 \n",
      "Image: Uniform_2_0.mat with porosity: 0.3725 \n",
      "Image: Uniform_3_0.2.mat with porosity: 0.3469 \n",
      "Image: Uniform_3_0.5.mat with porosity: 0.3435 \n",
      "Image: Uniform_3_0.mat with porosity: 0.3824 \n"
     ]
    }
   ],
   "source": [
    "#Calc all porosities\n",
    "for CT_scan in os.listdir(path):\n",
    "    if 'mat' in CT_scan:\n",
    "        rawMatData = loadmat(os.path.join(path, CT_scan))\n",
    "        bwImage = rawMatData[\"bwImage\"]\n",
    "        ctImage = rawMatData[\"ctImage\"]\n",
    "\n",
    "        porosity = np.sum(bwImage==0)/np.prod(bwImage.shape)\n",
    "        print(\"Image: %s with porosity: %.4f \"%(CT_scan, porosity))"
   ]
  },
  {
   "cell_type": "markdown",
   "metadata": {},
   "source": [
    "## Simple threshholding by 0.5"
   ]
  },
  {
   "cell_type": "code",
   "execution_count": null,
   "metadata": {},
   "outputs": [],
   "source": []
  },
  {
   "cell_type": "code",
   "execution_count": 27,
   "metadata": {
    "scrolled": true
   },
   "outputs": [
    {
     "name": "stdout",
     "output_type": "stream",
     "text": [
      "Image: Beta_1_0.2.mat with real porosity: 0.3376, with simple threshold porosity: 0.3226\n",
      "Errors: with  0.5 threshold: 0.045 \n",
      "---------------------------------------------------------------------------------\n",
      "Image: Beta_1_0.5.mat with real porosity: 0.3353, with simple threshold porosity: 0.3184\n",
      "Errors: with  0.5 threshold: 0.051 \n",
      "---------------------------------------------------------------------------------\n",
      "Image: Beta_1_0.mat with real porosity: 0.3672, with simple threshold porosity: 0.3646\n",
      "Errors: with  0.5 threshold: 0.007 \n",
      "---------------------------------------------------------------------------------\n",
      "Image: Beta_2_0.2.mat with real porosity: 0.3476, with simple threshold porosity: 0.3321\n",
      "Errors: with  0.5 threshold: 0.045 \n",
      "---------------------------------------------------------------------------------\n",
      "Image: Beta_2_0.5.mat with real porosity: 0.3472, with simple threshold porosity: 0.3487\n",
      "Errors: with  0.5 threshold: 0.004 \n",
      "---------------------------------------------------------------------------------\n",
      "Image: Beta_2_0.mat with real porosity: 0.3841, with simple threshold porosity: 0.3726\n",
      "Errors: with  0.5 threshold: 0.030 \n",
      "---------------------------------------------------------------------------------\n",
      "Image: Mono_1_0.2.mat with real porosity: 0.3387, with simple threshold porosity: 0.3360\n",
      "Errors: with  0.5 threshold: 0.008 \n",
      "---------------------------------------------------------------------------------\n",
      "Image: Mono_1_0.5.mat with real porosity: 0.3359, with simple threshold porosity: 0.3087\n",
      "Errors: with  0.5 threshold: 0.081 \n",
      "---------------------------------------------------------------------------------\n",
      "Image: Mono_1_0.mat with real porosity: 0.3730, with simple threshold porosity: 0.3586\n",
      "Errors: with  0.5 threshold: 0.039 \n",
      "---------------------------------------------------------------------------------\n",
      "Image: Mono_2_0.2.mat with real porosity: 0.3483, with simple threshold porosity: 0.3395\n",
      "Errors: with  0.5 threshold: 0.025 \n",
      "---------------------------------------------------------------------------------\n",
      "Image: Mono_2_0.5.mat with real porosity: 0.3420, with simple threshold porosity: 0.3451\n",
      "Errors: with  0.5 threshold: 0.009 \n",
      "---------------------------------------------------------------------------------\n",
      "Image: Mono_2_0.mat with real porosity: 0.3849, with simple threshold porosity: 0.3879\n",
      "Errors: with  0.5 threshold: 0.008 \n",
      "---------------------------------------------------------------------------------\n",
      "Image: Mono_3_0.2.mat with real porosity: 0.3495, with simple threshold porosity: 0.3422\n",
      "Errors: with  0.5 threshold: 0.021 \n",
      "---------------------------------------------------------------------------------\n",
      "Image: Mono_3_0.5.mat with real porosity: 0.3557, with simple threshold porosity: 0.3515\n",
      "Errors: with  0.5 threshold: 0.012 \n",
      "---------------------------------------------------------------------------------\n",
      "Image: Mono_3_0.mat with real porosity: 0.3887, with simple threshold porosity: 0.3862\n",
      "Errors: with  0.5 threshold: 0.007 \n",
      "---------------------------------------------------------------------------------\n",
      "Image: Normal_1_0.2.mat with real porosity: 0.3450, with simple threshold porosity: 0.3325\n",
      "Errors: with  0.5 threshold: 0.036 \n",
      "---------------------------------------------------------------------------------\n",
      "Image: Normal_1_0.5.mat with real porosity: 0.3468, with simple threshold porosity: 0.3415\n",
      "Errors: with  0.5 threshold: 0.015 \n",
      "---------------------------------------------------------------------------------\n",
      "Image: Normal_1_0.mat with real porosity: 0.3799, with simple threshold porosity: 0.3671\n",
      "Errors: with  0.5 threshold: 0.034 \n",
      "---------------------------------------------------------------------------------\n",
      "Image: Normal_2_0.2.mat with real porosity: 0.3369, with simple threshold porosity: 0.3202\n",
      "Errors: with  0.5 threshold: 0.050 \n",
      "---------------------------------------------------------------------------------\n",
      "Image: Normal_2_0.5.mat with real porosity: 0.3408, with simple threshold porosity: 0.3334\n",
      "Errors: with  0.5 threshold: 0.022 \n",
      "---------------------------------------------------------------------------------\n",
      "Image: Normal_2_0.mat with real porosity: 0.3709, with simple threshold porosity: 0.3610\n",
      "Errors: with  0.5 threshold: 0.027 \n",
      "---------------------------------------------------------------------------------\n",
      "Image: Normal_3_0.2.mat with real porosity: 0.3386, with simple threshold porosity: 0.3299\n",
      "Errors: with  0.5 threshold: 0.026 \n",
      "---------------------------------------------------------------------------------\n",
      "Image: Normal_3_0.5.mat with real porosity: 0.3421, with simple threshold porosity: 0.3151\n",
      "Errors: with  0.5 threshold: 0.079 \n",
      "---------------------------------------------------------------------------------\n",
      "Image: Normal_3_0.mat with real porosity: 0.3726, with simple threshold porosity: 0.3642\n",
      "Errors: with  0.5 threshold: 0.023 \n",
      "---------------------------------------------------------------------------------\n",
      "Image: Uniform_1_0.2.mat with real porosity: 0.3352, with simple threshold porosity: 0.3326\n",
      "Errors: with  0.5 threshold: 0.008 \n",
      "---------------------------------------------------------------------------------\n",
      "Image: Uniform_1_0.5.mat with real porosity: 0.3332, with simple threshold porosity: 0.3502\n",
      "Errors: with  0.5 threshold: 0.051 \n",
      "---------------------------------------------------------------------------------\n",
      "Image: Uniform_1_0.mat with real porosity: 0.3671, with simple threshold porosity: 0.3592\n",
      "Errors: with  0.5 threshold: 0.021 \n",
      "---------------------------------------------------------------------------------\n",
      "Image: Uniform_2_0.2.mat with real porosity: 0.3439, with simple threshold porosity: 0.3438\n",
      "Errors: with  0.5 threshold: 0.000 \n",
      "---------------------------------------------------------------------------------\n",
      "Image: Uniform_2_0.5.mat with real porosity: 0.3365, with simple threshold porosity: 0.3443\n",
      "Errors: with  0.5 threshold: 0.023 \n",
      "---------------------------------------------------------------------------------\n",
      "Image: Uniform_2_0.mat with real porosity: 0.3725, with simple threshold porosity: 0.3608\n",
      "Errors: with  0.5 threshold: 0.031 \n",
      "---------------------------------------------------------------------------------\n",
      "Image: Uniform_3_0.2.mat with real porosity: 0.3469, with simple threshold porosity: 0.3335\n",
      "Errors: with  0.5 threshold: 0.039 \n",
      "---------------------------------------------------------------------------------\n",
      "Image: Uniform_3_0.5.mat with real porosity: 0.3435, with simple threshold porosity: 0.3261\n",
      "Errors: with  0.5 threshold: 0.051 \n",
      "---------------------------------------------------------------------------------\n",
      "Image: Uniform_3_0.mat with real porosity: 0.3824, with simple threshold porosity: 0.3703\n",
      "Errors: with  0.5 threshold: 0.032 \n",
      "---------------------------------------------------------------------------------\n"
     ]
    }
   ],
   "source": [
    "real_poro = []\n",
    "new_poro = []\n",
    "simpl_poro = []\n",
    "\n",
    "for CT_scan in os.listdir(path):\n",
    "    if 'mat' in CT_scan:\n",
    "        rawMatData = loadmat(os.path.join(path, CT_scan))\n",
    "        bwImage = rawMatData[\"bwImage\"]\n",
    "        ctImage = rawMatData[\"ctImage\"]\n",
    "        \n",
    "        true_porosity = np.sum(bwImage==0)/np.prod(bwImage.shape)\n",
    "        \n",
    "#         ct_img_val = ctImage.flatten()\n",
    "#         thresh = (np.bincount(ct_img_val[ct_img_val >= 128]).argmax() - np.bincount(ct_img_val[ct_img_val < 128]).argmax())/2\n",
    "        \n",
    "#         new_bwImage = np.zeros_like(ctImage)\n",
    "        simplest_bwImage = np.zeros_like(ctImage)\n",
    "        \n",
    "#         new_bwImage = np.where(ctImage > thresh, new_bwImage+1, new_bwImage)\n",
    "#         new_porosity = np.sum(new_bwImage==0)/np.prod(new_bwImage.shape)\n",
    "        \n",
    "        simplest_bwImage = np.where(ctImage/255.0 > 0.5, simplest_bwImage+1, simplest_bwImage)\n",
    "        simplest_porosity = np.sum(simplest_bwImage==0)/np.prod(simplest_bwImage.shape)\n",
    "        \n",
    "        print(\"Image: %s with real porosity: %.4f, with simple threshold porosity: %.4f\"%(\n",
    "            CT_scan, true_porosity, simplest_porosity))\n",
    "        print(\"Errors: with  0.5 threshold: %.3f \"%(np.abs(true_porosity - simplest_porosity)/true_porosity))\n",
    "        print('---------------------------------------------------------------------------------')"
   ]
  },
  {
   "cell_type": "code",
   "execution_count": 49,
   "metadata": {},
   "outputs": [
    {
     "data": {
      "image/png": "[encoded data removed]",
      "text/plain": [
       "<Figure size 432x288 with 1 Axes>"
      ]
     },
     "metadata": {
      "needs_background": "light"
     },
     "output_type": "display_data"
    }
   ],
   "source": [
    "plt.hist(img_val, bins = 100)\n",
    "plt.show()"
   ]
  },
  {
   "cell_type": "code",
   "execution_count": null,
   "metadata": {},
   "outputs": [],
   "source": []
  }
 ],
 "metadata": {
  "kernelspec": {
   "display_name": "Python 3",
   "language": "python",
   "name": "python3"
  },
  "language_info": {
   "codemirror_mode": {
    "name": "ipython",
    "version": 3
   },
   "file_extension": ".py",
   "mimetype": "text/x-python",
   "name": "python",
   "nbconvert_exporter": "python",
   "pygments_lexer": "ipython3",
   "version": "3.8.5"
  }
 },
 "nbformat": 4,
 "nbformat_minor": 4
}
